{
  "cells": [
    {
      "cell_type": "markdown",
      "metadata": {
        "id": "view-in-github",
        "colab_type": "text"
      },
      "source": [
        "<a href=\"https://colab.research.google.com/github/ritwiks9635/ChatGPT.openai/blob/main/Language_Models_the_Chat_Format_and_Tokens.ipynb\" target=\"_parent\"><img src=\"https://colab.research.google.com/assets/colab-badge.svg\" alt=\"Open In Colab\"/></a>"
      ]
    },
    {
      "cell_type": "markdown",
      "source": [
        "#**L1 Language Models, the Chat Format and Tokens**"
      ],
      "metadata": {
        "id": "1Xg0eU9zIYza"
      }
    },
    {
      "cell_type": "markdown",
      "source": [
        "###**Setup**\n",
        "\n",
        "**Load the API key and relevant Python libaries.**\n",
        "\n",
        "In this course, we've provided some code that loads the OpenAI API key for you."
      ],
      "metadata": {
        "id": "WNqPk_E6Ii1S"
      }
    },
    {
      "cell_type": "code",
      "source": [
        "\n",
        "import os\n",
        "import openai\n",
        "import tiktoken\n",
        "from dotenv import load_dotenv, find_dotenv\n",
        "_ = load_dotenv(find_dotenv()) # read local .env file\n",
        "\n",
        "openai.api_key  = os.environ['OPENAI_API_KEY']"
      ],
      "metadata": {
        "id": "KAoNRYEDIfNS"
      },
      "execution_count": null,
      "outputs": []
    },
    {
      "cell_type": "markdown",
      "source": [
        "helper function\n",
        "\n",
        "This may look familiar if you took the earlier course \"ChatGPT Prompt Engineering for Developers\" Course.\n",
        "\n",
        "Throughout this course, we will use OpenAI's gpt-3.5-turbo model and the chat completions endpoint.\n",
        "This helper function will make it easier to use prompts and look at the generated outputs.\n",
        "\n",
        "Note: In June 2023, OpenAI updated gpt-3.5-turbo. The results you see in the notebook may be slightly different than those in the video. Some of the prompts have also been slightly modified to produce the desired results."
      ],
      "metadata": {
        "id": "z5nZtNUPI_6w"
      }
    },
    {
      "cell_type": "code",
      "source": [
        "\n",
        "def get_completion(prompt, model=\"gpt-3.5-turbo\"):\n",
        "    messages = [{\"role\": \"user\", \"content\": prompt}]\n",
        "    response = openai.ChatCompletion.create(\n",
        "        model=model,\n",
        "        messages=messages,\n",
        "        temperature=0, # this is the degree of randomness of the model's output\n",
        "    )\n",
        "    return response.choices[0].message[\"content\"]"
      ],
      "metadata": {
        "id": "73kcv8A3KfY3"
      },
      "execution_count": null,
      "outputs": []
    },
    {
      "cell_type": "markdown",
      "source": [
        "Note: This and all other lab notebooks of this course use OpenAI library version 0.27.0.\n",
        "In order to use the OpenAI library version 1.0.0, here is the code that you would use instead for the get_completion function:\n",
        "\n",
        "```python\n",
        "client = openai.OpenAI()\n",
        "\n",
        "def get_completion(prompt, model=\"gpt-3.5-turbo\"):\n",
        "    messages = [{\"role\": \"user\", \"content\": prompt}]\n",
        "    response = client.chat.completions.create(\n",
        "        model=model,\n",
        "        messages=messages,\n",
        "        temperature=0\n",
        "    )\n",
        "    return response.choices[0].message.content\n",
        "```"
      ],
      "metadata": {
        "id": "CjbPObjxKuc3"
      }
    },
    {
      "cell_type": "markdown",
      "source": [
        "#**Prompt the model and get a completion**"
      ],
      "metadata": {
        "id": "pqdp7n0fLOYC"
      }
    },
    {
      "cell_type": "code",
      "source": [
        "response = get_completion(\"What is the capital of France?\")"
      ],
      "metadata": {
        "id": "k882zb4DKkpP"
      },
      "execution_count": null,
      "outputs": []
    },
    {
      "cell_type": "code",
      "source": [
        "print(response)"
      ],
      "metadata": {
        "id": "UdQnbihqMBra"
      },
      "execution_count": null,
      "outputs": []
    },
    {
      "cell_type": "markdown",
      "source": [
        "#**Tokens**"
      ],
      "metadata": {
        "id": "JiQJyLANME-z"
      }
    },
    {
      "cell_type": "code",
      "source": [
        "\n",
        "response = get_completion(\"Take the letters in lollipop \\\n",
        "and reverse them\")\n",
        "print(response)"
      ],
      "metadata": {
        "id": "-eEW-o5XMJDp"
      },
      "execution_count": null,
      "outputs": []
    },
    {
      "cell_type": "markdown",
      "source": [
        "\"lollipop\" in reverse should be \"popillol\""
      ],
      "metadata": {
        "id": "n8rIg9bJMR_l"
      }
    },
    {
      "cell_type": "code",
      "source": [
        "\n",
        "response = get_completion(\"\"\"Take the letters in \\\n",
        "l-o-l-l-i-p-o-p and reverse them\"\"\")"
      ],
      "metadata": {
        "id": "5o-UnT39MNon"
      },
      "execution_count": null,
      "outputs": []
    },
    {
      "cell_type": "code",
      "source": [
        "print(response)"
      ],
      "metadata": {
        "id": "G7KIm59JM4_o"
      },
      "execution_count": null,
      "outputs": []
    },
    {
      "cell_type": "markdown",
      "source": [
        "#**Helper function (chat format)**\n",
        "\n",
        "Here's the helper function we'll use in this course."
      ],
      "metadata": {
        "id": "gWKDzpTeNAbc"
      }
    },
    {
      "cell_type": "code",
      "source": [
        "\n",
        "def get_completion_from_messages(messages,\n",
        "                                 model=\"gpt-3.5-turbo\",\n",
        "                                 temperature=0,\n",
        "                                 max_tokens=500):\n",
        "    response = openai.ChatCompletion.create(\n",
        "        model=model,\n",
        "        messages=messages,\n",
        "        temperature=temperature, # this is the degree of randomness of the model's output\n",
        "        max_tokens=max_tokens, # the maximum number of tokens the model can ouptut\n",
        "    )\n",
        "    return response.choices[0].message[\"content\"]"
      ],
      "metadata": {
        "id": "rMmXv5wWM93U"
      },
      "execution_count": null,
      "outputs": []
    },
    {
      "cell_type": "code",
      "source": [
        "\n",
        "messages =  [\n",
        "{'role':'system',\n",
        " 'content':\"\"\"You are an assistant who\\\n",
        " responds in the style of Dr Seuss.\"\"\"},\n",
        "{'role':'user',\n",
        " 'content':\"\"\"write me a very short poem\\\n",
        " about a happy carrot\"\"\"},\n",
        "]\n",
        "response = get_completion_from_messages(messages, temperature=1)\n",
        "print(response)"
      ],
      "metadata": {
        "id": "gn7Dy2QtNJ8P"
      },
      "execution_count": null,
      "outputs": []
    },
    {
      "cell_type": "code",
      "source": [
        "\n",
        "# length\n",
        "messages =  [\n",
        "{'role':'system',\n",
        " 'content':'All your responses must be \\\n",
        "one sentence long.'},\n",
        "{'role':'user',\n",
        " 'content':'write me a story about a happy carrot'},\n",
        "]\n",
        "response = get_completion_from_messages(messages, temperature =1)\n",
        "print(response)"
      ],
      "metadata": {
        "id": "M5gHrXwdNNwO"
      },
      "execution_count": null,
      "outputs": []
    },
    {
      "cell_type": "code",
      "source": [
        "\n",
        "# combined\n",
        "messages =  [\n",
        "{'role':'system',\n",
        " 'content':\"\"\"You are an assistant who \\\n",
        "responds in the style of Dr Seuss. \\\n",
        "All your responses must be one sentence long.\"\"\"},\n",
        "{'role':'user',\n",
        " 'content':\"\"\"write me a story about a happy carrot\"\"\"},\n",
        "]\n",
        "response = get_completion_from_messages(messages,\n",
        "                                        temperature =1)\n",
        "print(response)"
      ],
      "metadata": {
        "id": "Zr77VGZeNyoT"
      },
      "execution_count": null,
      "outputs": []
    },
    {
      "cell_type": "code",
      "source": [
        "\n",
        "def get_completion_and_token_count(messages,\n",
        "                                   model=\"gpt-3.5-turbo\",\n",
        "                                   temperature=0,\n",
        "                                   max_tokens=500):\n",
        "\n",
        "    response = openai.ChatCompletion.create(\n",
        "        model=model,\n",
        "        messages=messages,\n",
        "        temperature=temperature,\n",
        "        max_tokens=max_tokens,\n",
        "    )\n",
        "\n",
        "    content = response.choices[0].message[\"content\"]\n",
        "\n",
        "    token_dict = {\n",
        "'prompt_tokens':response['usage']['prompt_tokens'],\n",
        "'completion_tokens':response['usage']['completion_tokens'],\n",
        "'total_tokens':response['usage']['total_tokens'],\n",
        "    }\n",
        "\n",
        "    return content, token_dict"
      ],
      "metadata": {
        "id": "YyEcLlFONRH6"
      },
      "execution_count": null,
      "outputs": []
    },
    {
      "cell_type": "code",
      "source": [
        "\n",
        "messages = [\n",
        "{'role':'system',\n",
        " 'content':\"\"\"You are an assistant who responds\\\n",
        " in the style of Dr Seuss.\"\"\"},\n",
        "{'role':'user',\n",
        " 'content':\"\"\"write me a very short poem \\\n",
        " about a happy carrot\"\"\"},\n",
        "]\n",
        "response, token_dict = get_completion_and_token_count(messages)"
      ],
      "metadata": {
        "id": "4xiBh0oJNWer"
      },
      "execution_count": null,
      "outputs": []
    },
    {
      "cell_type": "code",
      "source": [
        "print(response)"
      ],
      "metadata": {
        "id": "hFVy2vfOOI30"
      },
      "execution_count": null,
      "outputs": []
    },
    {
      "cell_type": "code",
      "source": [
        "print(token_dict)"
      ],
      "metadata": {
        "id": "BvRZH2ZeOKTV"
      },
      "execution_count": null,
      "outputs": []
    },
    {
      "cell_type": "markdown",
      "source": [
        "###**Notes on using the OpenAI API outside of this classroom**\n",
        "\n",
        "To install the OpenAI Python library:\n",
        "```python\n",
        "!pip install openai\n",
        "```\n",
        "The library needs to be configured with your account's secret key, which is available on the website.\n",
        "\n",
        "You can either set it as the OPENAI_API_KEY environment variable before using the library:\n",
        "\n",
        " !export OPENAI_API_KEY='sk-...'\n",
        "\n",
        "Or, set openai.api_key to its value:\n",
        "\n",
        "import openai\n",
        "\n",
        "openai.api_key = \"sk-...\""
      ],
      "metadata": {
        "id": "KCS5B6mUNxob"
      }
    },
    {
      "cell_type": "markdown",
      "source": [
        "**A note about the backslash**\n",
        "\n",
        "* In the course, we are using a backslash \\ to make the text fit on the screen without inserting newline '\\n' characters.\n",
        "\n",
        "* GPT-3 isn't really affected whether you insert newline characters or not. But when working with LLMs in general, you may consider whether newline characters in your prompt may affect the model's performance."
      ],
      "metadata": {
        "id": "wHBXAxl_OzeT"
      }
    }
  ],
  "metadata": {
    "colab": {
      "provenance": [],
      "include_colab_link": true
    },
    "kernelspec": {
      "display_name": "Python 3",
      "name": "python3"
    },
    "language_info": {
      "codemirror_mode": {
        "name": "ipython",
        "version": 3
      },
      "file_extension": ".py",
      "mimetype": "text/x-python",
      "name": "python",
      "nbconvert_exporter": "python",
      "pygments_lexer": "ipython3",
      "version": "3.10.12"
    }
  },
  "nbformat": 4,
  "nbformat_minor": 0
}